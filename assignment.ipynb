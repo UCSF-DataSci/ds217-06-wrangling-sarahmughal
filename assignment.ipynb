{
 "cells": [
  {
   "cell_type": "markdown",
   "id": "128a0838",
   "metadata": {},
   "source": [
    "# Assignment 6: Data Wrangling with Merge, Concat, and Reshape\n",
    "\n",
    "**Deliverable:** Completed notebook with output files in `output/`\n",
    "\n",
    "---\n",
    "\n",
    "## Setup\n",
    "\n",
    "First, make sure you've generated the data by running `data_generator.ipynb`."
   ]
  },
  {
   "cell_type": "code",
   "execution_count": 1,
   "id": "b6e090d8",
   "metadata": {},
   "outputs": [
    {
     "name": "stdout",
     "output_type": "stream",
     "text": [
      "✓ All data files found\n"
     ]
    }
   ],
   "source": [
    "import pandas as pd\n",
    "import numpy as np\n",
    "import os\n",
    "\n",
    "# Verify data files exist\n",
    "required_files = [\"data/customers.csv\", \"data/products.csv\", \"data/purchases.csv\"]\n",
    "for file in required_files:\n",
    "    if not os.path.exists(file):\n",
    "        raise FileNotFoundError(f\"{file} not found. Run data_generator.ipynb first!\")\n",
    "\n",
    "print(\"✓ All data files found\")"
   ]
  },
  {
   "cell_type": "markdown",
   "id": "c802da33",
   "metadata": {},
   "source": [
    "---\n",
    "\n",
    "## Dataset Column Reference\n",
    "\n",
    "Use this reference when writing merge operations and selecting columns. Each dataset's columns are listed below with their data types and descriptions.\n",
    "\n",
    "**`customers.csv` columns:**\n",
    "- `customer_id` - Unique ID (C001, C002, ...)\n",
    "- `name` - Customer full name\n",
    "- `city` - Customer city\n",
    "- `signup_date` - Registration date\n",
    "\n",
    "**`products.csv` columns:**\n",
    "- `product_id` - Unique ID (P001, P002, ...)\n",
    "- `product_name` - Product name\n",
    "- `category` - Product category (Electronics, Clothing, Home & Garden, Books, Sports)\n",
    "- `price` - Product price in dollars\n",
    "\n",
    "**`purchases.csv` columns:**\n",
    "- `purchase_id` - Unique ID (T0001, T0002, ...)\n",
    "- `customer_id` - Links to customers\n",
    "- `product_id` - Links to products\n",
    "- `quantity` - Number of items purchased\n",
    "- `purchase_date` - Purchase date\n",
    "- `store` - Store location (Store A, B, or C)\n",
    "\n",
    "---\n",
    "\n",
    "## Question 1: Merging Datasets\n",
    "\n",
    "### Part A: Basic Merge Operations\n",
    "\n",
    "Load the datasets and perform merge operations."
   ]
  },
  {
   "cell_type": "code",
   "execution_count": null,
   "id": "ad1b33a6",
   "metadata": {},
   "outputs": [
    {
     "name": "stdout",
     "output_type": "stream",
     "text": [
      "Customers:\n"
     ]
    },
    {
     "data": {
      "application/vnd.microsoft.datawrangler.viewer.v0+json": {
       "columns": [
        {
         "name": "index",
         "rawType": "int64",
         "type": "integer"
        },
        {
         "name": "customer_id",
         "rawType": "object",
         "type": "string"
        },
        {
         "name": "name",
         "rawType": "object",
         "type": "string"
        },
        {
         "name": "city",
         "rawType": "object",
         "type": "string"
        },
        {
         "name": "signup_date",
         "rawType": "object",
         "type": "string"
        }
       ],
       "ref": "b761ed79-50c6-44e7-9acb-6d711882f8e6",
       "rows": [
        [
         "0",
         "C001",
         "George Chen",
         "Portland",
         "2023-01-01"
        ],
        [
         "1",
         "C002",
         "Teresa Miller",
         "Sacramento",
         "2023-01-04"
        ],
        [
         "2",
         "C003",
         "Diana Rodriguez",
         "Los Angeles",
         "2023-01-07"
        ],
        [
         "3",
         "C004",
         "Eric Lee",
         "San Francisco",
         "2023-01-10"
        ],
        [
         "4",
         "C005",
         "George Miller",
         "Seattle",
         "2023-01-13"
        ]
       ],
       "shape": {
        "columns": 4,
        "rows": 5
       }
      },
      "text/html": [
       "<div>\n",
       "<style scoped>\n",
       "    .dataframe tbody tr th:only-of-type {\n",
       "        vertical-align: middle;\n",
       "    }\n",
       "\n",
       "    .dataframe tbody tr th {\n",
       "        vertical-align: top;\n",
       "    }\n",
       "\n",
       "    .dataframe thead th {\n",
       "        text-align: right;\n",
       "    }\n",
       "</style>\n",
       "<table border=\"1\" class=\"dataframe\">\n",
       "  <thead>\n",
       "    <tr style=\"text-align: right;\">\n",
       "      <th></th>\n",
       "      <th>customer_id</th>\n",
       "      <th>name</th>\n",
       "      <th>city</th>\n",
       "      <th>signup_date</th>\n",
       "    </tr>\n",
       "  </thead>\n",
       "  <tbody>\n",
       "    <tr>\n",
       "      <th>0</th>\n",
       "      <td>C001</td>\n",
       "      <td>George Chen</td>\n",
       "      <td>Portland</td>\n",
       "      <td>2023-01-01</td>\n",
       "    </tr>\n",
       "    <tr>\n",
       "      <th>1</th>\n",
       "      <td>C002</td>\n",
       "      <td>Teresa Miller</td>\n",
       "      <td>Sacramento</td>\n",
       "      <td>2023-01-04</td>\n",
       "    </tr>\n",
       "    <tr>\n",
       "      <th>2</th>\n",
       "      <td>C003</td>\n",
       "      <td>Diana Rodriguez</td>\n",
       "      <td>Los Angeles</td>\n",
       "      <td>2023-01-07</td>\n",
       "    </tr>\n",
       "    <tr>\n",
       "      <th>3</th>\n",
       "      <td>C004</td>\n",
       "      <td>Eric Lee</td>\n",
       "      <td>San Francisco</td>\n",
       "      <td>2023-01-10</td>\n",
       "    </tr>\n",
       "    <tr>\n",
       "      <th>4</th>\n",
       "      <td>C005</td>\n",
       "      <td>George Miller</td>\n",
       "      <td>Seattle</td>\n",
       "      <td>2023-01-13</td>\n",
       "    </tr>\n",
       "  </tbody>\n",
       "</table>\n",
       "</div>"
      ],
      "text/plain": [
       "  customer_id             name           city signup_date\n",
       "0        C001      George Chen       Portland  2023-01-01\n",
       "1        C002    Teresa Miller     Sacramento  2023-01-04\n",
       "2        C003  Diana Rodriguez    Los Angeles  2023-01-07\n",
       "3        C004         Eric Lee  San Francisco  2023-01-10\n",
       "4        C005    George Miller        Seattle  2023-01-13"
      ]
     },
     "metadata": {},
     "output_type": "display_data"
    },
    {
     "name": "stdout",
     "output_type": "stream",
     "text": [
      "\n",
      "Products:\n"
     ]
    },
    {
     "data": {
      "application/vnd.microsoft.datawrangler.viewer.v0+json": {
       "columns": [
        {
         "name": "index",
         "rawType": "int64",
         "type": "integer"
        },
        {
         "name": "product_id",
         "rawType": "object",
         "type": "string"
        },
        {
         "name": "product_name",
         "rawType": "object",
         "type": "string"
        },
        {
         "name": "category",
         "rawType": "object",
         "type": "string"
        },
        {
         "name": "price",
         "rawType": "float64",
         "type": "float"
        }
       ],
       "ref": "c0939f9f-b0d3-4e10-8e79-91e651959e19",
       "rows": [
        [
         "0",
         "P001",
         "Laptop",
         "Electronics",
         "1097.56"
        ],
        [
         "1",
         "P002",
         "Mouse",
         "Electronics",
         "457.12"
        ],
        [
         "2",
         "P003",
         "Keyboard",
         "Electronics",
         "85.26"
        ],
        [
         "3",
         "P004",
         "Monitor",
         "Electronics",
         "985.93"
        ],
        [
         "4",
         "P005",
         "Tablet",
         "Electronics",
         "306.81"
        ]
       ],
       "shape": {
        "columns": 4,
        "rows": 5
       }
      },
      "text/html": [
       "<div>\n",
       "<style scoped>\n",
       "    .dataframe tbody tr th:only-of-type {\n",
       "        vertical-align: middle;\n",
       "    }\n",
       "\n",
       "    .dataframe tbody tr th {\n",
       "        vertical-align: top;\n",
       "    }\n",
       "\n",
       "    .dataframe thead th {\n",
       "        text-align: right;\n",
       "    }\n",
       "</style>\n",
       "<table border=\"1\" class=\"dataframe\">\n",
       "  <thead>\n",
       "    <tr style=\"text-align: right;\">\n",
       "      <th></th>\n",
       "      <th>product_id</th>\n",
       "      <th>product_name</th>\n",
       "      <th>category</th>\n",
       "      <th>price</th>\n",
       "    </tr>\n",
       "  </thead>\n",
       "  <tbody>\n",
       "    <tr>\n",
       "      <th>0</th>\n",
       "      <td>P001</td>\n",
       "      <td>Laptop</td>\n",
       "      <td>Electronics</td>\n",
       "      <td>1097.56</td>\n",
       "    </tr>\n",
       "    <tr>\n",
       "      <th>1</th>\n",
       "      <td>P002</td>\n",
       "      <td>Mouse</td>\n",
       "      <td>Electronics</td>\n",
       "      <td>457.12</td>\n",
       "    </tr>\n",
       "    <tr>\n",
       "      <th>2</th>\n",
       "      <td>P003</td>\n",
       "      <td>Keyboard</td>\n",
       "      <td>Electronics</td>\n",
       "      <td>85.26</td>\n",
       "    </tr>\n",
       "    <tr>\n",
       "      <th>3</th>\n",
       "      <td>P004</td>\n",
       "      <td>Monitor</td>\n",
       "      <td>Electronics</td>\n",
       "      <td>985.93</td>\n",
       "    </tr>\n",
       "    <tr>\n",
       "      <th>4</th>\n",
       "      <td>P005</td>\n",
       "      <td>Tablet</td>\n",
       "      <td>Electronics</td>\n",
       "      <td>306.81</td>\n",
       "    </tr>\n",
       "  </tbody>\n",
       "</table>\n",
       "</div>"
      ],
      "text/plain": [
       "  product_id product_name     category    price\n",
       "0       P001       Laptop  Electronics  1097.56\n",
       "1       P002        Mouse  Electronics   457.12\n",
       "2       P003     Keyboard  Electronics    85.26\n",
       "3       P004      Monitor  Electronics   985.93\n",
       "4       P005       Tablet  Electronics   306.81"
      ]
     },
     "metadata": {},
     "output_type": "display_data"
    },
    {
     "name": "stdout",
     "output_type": "stream",
     "text": [
      "\n",
      "Purchases:\n"
     ]
    },
    {
     "data": {
      "application/vnd.microsoft.datawrangler.viewer.v0+json": {
       "columns": [
        {
         "name": "index",
         "rawType": "int64",
         "type": "integer"
        },
        {
         "name": "purchase_id",
         "rawType": "object",
         "type": "string"
        },
        {
         "name": "customer_id",
         "rawType": "object",
         "type": "string"
        },
        {
         "name": "product_id",
         "rawType": "object",
         "type": "string"
        },
        {
         "name": "quantity",
         "rawType": "int64",
         "type": "integer"
        },
        {
         "name": "purchase_date",
         "rawType": "object",
         "type": "string"
        },
        {
         "name": "store",
         "rawType": "object",
         "type": "string"
        }
       ],
       "ref": "77b22ceb-1ca0-405d-8c7e-7ab39b9f9f5e",
       "rows": [
        [
         "0",
         "T0001",
         "C011",
         "P042",
         "1",
         "2023-01-01 00:00:00",
         "Store C"
        ],
        [
         "1",
         "T0002",
         "C070",
         "P001",
         "2",
         "2023-01-01 04:00:00",
         "Store A"
        ],
        [
         "2",
         "T0003",
         "C075",
         "P029",
         "1",
         "2023-01-01 08:00:00",
         "Store A"
        ],
        [
         "3",
         "T0004",
         "C053",
         "P045",
         "1",
         "2023-01-01 12:00:00",
         "Store C"
        ],
        [
         "4",
         "T0005",
         "C079",
         "P049",
         "3",
         "2023-01-01 16:00:00",
         "Store B"
        ]
       ],
       "shape": {
        "columns": 6,
        "rows": 5
       }
      },
      "text/html": [
       "<div>\n",
       "<style scoped>\n",
       "    .dataframe tbody tr th:only-of-type {\n",
       "        vertical-align: middle;\n",
       "    }\n",
       "\n",
       "    .dataframe tbody tr th {\n",
       "        vertical-align: top;\n",
       "    }\n",
       "\n",
       "    .dataframe thead th {\n",
       "        text-align: right;\n",
       "    }\n",
       "</style>\n",
       "<table border=\"1\" class=\"dataframe\">\n",
       "  <thead>\n",
       "    <tr style=\"text-align: right;\">\n",
       "      <th></th>\n",
       "      <th>purchase_id</th>\n",
       "      <th>customer_id</th>\n",
       "      <th>product_id</th>\n",
       "      <th>quantity</th>\n",
       "      <th>purchase_date</th>\n",
       "      <th>store</th>\n",
       "    </tr>\n",
       "  </thead>\n",
       "  <tbody>\n",
       "    <tr>\n",
       "      <th>0</th>\n",
       "      <td>T0001</td>\n",
       "      <td>C011</td>\n",
       "      <td>P042</td>\n",
       "      <td>1</td>\n",
       "      <td>2023-01-01 00:00:00</td>\n",
       "      <td>Store C</td>\n",
       "    </tr>\n",
       "    <tr>\n",
       "      <th>1</th>\n",
       "      <td>T0002</td>\n",
       "      <td>C070</td>\n",
       "      <td>P001</td>\n",
       "      <td>2</td>\n",
       "      <td>2023-01-01 04:00:00</td>\n",
       "      <td>Store A</td>\n",
       "    </tr>\n",
       "    <tr>\n",
       "      <th>2</th>\n",
       "      <td>T0003</td>\n",
       "      <td>C075</td>\n",
       "      <td>P029</td>\n",
       "      <td>1</td>\n",
       "      <td>2023-01-01 08:00:00</td>\n",
       "      <td>Store A</td>\n",
       "    </tr>\n",
       "    <tr>\n",
       "      <th>3</th>\n",
       "      <td>T0004</td>\n",
       "      <td>C053</td>\n",
       "      <td>P045</td>\n",
       "      <td>1</td>\n",
       "      <td>2023-01-01 12:00:00</td>\n",
       "      <td>Store C</td>\n",
       "    </tr>\n",
       "    <tr>\n",
       "      <th>4</th>\n",
       "      <td>T0005</td>\n",
       "      <td>C079</td>\n",
       "      <td>P049</td>\n",
       "      <td>3</td>\n",
       "      <td>2023-01-01 16:00:00</td>\n",
       "      <td>Store B</td>\n",
       "    </tr>\n",
       "  </tbody>\n",
       "</table>\n",
       "</div>"
      ],
      "text/plain": [
       "  purchase_id customer_id product_id  quantity        purchase_date    store\n",
       "0       T0001        C011       P042         1  2023-01-01 00:00:00  Store C\n",
       "1       T0002        C070       P001         2  2023-01-01 04:00:00  Store A\n",
       "2       T0003        C075       P029         1  2023-01-01 08:00:00  Store A\n",
       "3       T0004        C053       P045         1  2023-01-01 12:00:00  Store C\n",
       "4       T0005        C079       P049         3  2023-01-01 16:00:00  Store B"
      ]
     },
     "metadata": {},
     "output_type": "display_data"
    }
   ],
   "source": [
    "# TODO: Load the three datasets\n",
    "customers = pd.read_csv(\"data/customers.csv\")  # Load data/customers.csv\n",
    "products = pd.read_csv(\"data/products.csv\")  # Load data/products.csv\n",
    "purchases = pd.read_csv(\"data/purchases.csv\")  # Load data/purchases.csv\n",
    "\n",
    "# Display first few rows of each\n",
    "print(\"Customers:\")\n",
    "display(customers.head())\n",
    "print(\"\\nProducts:\")\n",
    "display(products.head())\n",
    "print(\"\\nPurchases:\")\n",
    "display(purchases.head())"
   ]
  },
  {
   "cell_type": "code",
   "execution_count": 4,
   "id": "f3fabf13",
   "metadata": {},
   "outputs": [
    {
     "data": {
      "application/vnd.microsoft.datawrangler.viewer.v0+json": {
       "columns": [
        {
         "name": "index",
         "rawType": "int64",
         "type": "integer"
        },
        {
         "name": "purchase_id",
         "rawType": "object",
         "type": "string"
        },
        {
         "name": "customer_id",
         "rawType": "object",
         "type": "string"
        },
        {
         "name": "product_id",
         "rawType": "object",
         "type": "string"
        },
        {
         "name": "quantity",
         "rawType": "int64",
         "type": "integer"
        },
        {
         "name": "purchase_date",
         "rawType": "object",
         "type": "string"
        },
        {
         "name": "store",
         "rawType": "object",
         "type": "string"
        },
        {
         "name": "name",
         "rawType": "object",
         "type": "string"
        },
        {
         "name": "city",
         "rawType": "object",
         "type": "string"
        },
        {
         "name": "signup_date",
         "rawType": "object",
         "type": "string"
        }
       ],
       "ref": "0764a96e-80be-40ef-9b2f-7a59697adc3a",
       "rows": [
        [
         "0",
         "T0001",
         "C011",
         "P042",
         "1",
         "2023-01-01 00:00:00",
         "Store C",
         "Michael Rodriguez",
         "Seattle",
         "2023-01-31"
        ],
        [
         "1",
         "T0002",
         "C070",
         "P001",
         "2",
         "2023-01-01 04:00:00",
         "Store A",
         "Eric Brown",
         "Sacramento",
         "2023-07-27"
        ],
        [
         "2",
         "T0003",
         "C075",
         "P029",
         "1",
         "2023-01-01 08:00:00",
         "Store A",
         "Alice Wilson",
         "Los Angeles",
         "2023-08-11"
        ],
        [
         "3",
         "T0004",
         "C053",
         "P045",
         "1",
         "2023-01-01 12:00:00",
         "Store C",
         "Diana Kim",
         "Sacramento",
         "2023-06-06"
        ],
        [
         "4",
         "T0005",
         "C079",
         "P049",
         "3",
         "2023-01-01 16:00:00",
         "Store B",
         "Hannah Patel",
         "Portland",
         "2023-08-23"
        ],
        [
         "5",
         "T0006",
         "C010",
         "P035",
         "1",
         "2023-01-01 20:00:00",
         "Store C",
         "Bob Jackson",
         "Los Angeles",
         "2023-01-28"
        ],
        [
         "6",
         "T0007",
         "C011",
         "P040",
         "3",
         "2023-01-02 00:00:00",
         "Store C",
         "Michael Rodriguez",
         "Seattle",
         "2023-01-31"
        ],
        [
         "7",
         "T0008",
         "C092",
         "P014",
         "1",
         "2023-01-02 04:00:00",
         "Store C",
         "Steve Garcia",
         "Los Angeles",
         "2023-10-01"
        ],
        [
         "8",
         "T0009",
         "C060",
         "P035",
         "1",
         "2023-01-02 08:00:00",
         "Store B",
         "Alice Brown",
         "Portland",
         "2023-06-27"
        ],
        [
         "9",
         "T0010",
         "C030",
         "P048",
         "1",
         "2023-01-02 12:00:00",
         "Store B",
         "Teresa Davis",
         "Seattle",
         "2023-03-29"
        ]
       ],
       "shape": {
        "columns": 9,
        "rows": 10
       }
      },
      "text/html": [
       "<div>\n",
       "<style scoped>\n",
       "    .dataframe tbody tr th:only-of-type {\n",
       "        vertical-align: middle;\n",
       "    }\n",
       "\n",
       "    .dataframe tbody tr th {\n",
       "        vertical-align: top;\n",
       "    }\n",
       "\n",
       "    .dataframe thead th {\n",
       "        text-align: right;\n",
       "    }\n",
       "</style>\n",
       "<table border=\"1\" class=\"dataframe\">\n",
       "  <thead>\n",
       "    <tr style=\"text-align: right;\">\n",
       "      <th></th>\n",
       "      <th>purchase_id</th>\n",
       "      <th>customer_id</th>\n",
       "      <th>product_id</th>\n",
       "      <th>quantity</th>\n",
       "      <th>purchase_date</th>\n",
       "      <th>store</th>\n",
       "      <th>name</th>\n",
       "      <th>city</th>\n",
       "      <th>signup_date</th>\n",
       "    </tr>\n",
       "  </thead>\n",
       "  <tbody>\n",
       "    <tr>\n",
       "      <th>0</th>\n",
       "      <td>T0001</td>\n",
       "      <td>C011</td>\n",
       "      <td>P042</td>\n",
       "      <td>1</td>\n",
       "      <td>2023-01-01 00:00:00</td>\n",
       "      <td>Store C</td>\n",
       "      <td>Michael Rodriguez</td>\n",
       "      <td>Seattle</td>\n",
       "      <td>2023-01-31</td>\n",
       "    </tr>\n",
       "    <tr>\n",
       "      <th>1</th>\n",
       "      <td>T0002</td>\n",
       "      <td>C070</td>\n",
       "      <td>P001</td>\n",
       "      <td>2</td>\n",
       "      <td>2023-01-01 04:00:00</td>\n",
       "      <td>Store A</td>\n",
       "      <td>Eric Brown</td>\n",
       "      <td>Sacramento</td>\n",
       "      <td>2023-07-27</td>\n",
       "    </tr>\n",
       "    <tr>\n",
       "      <th>2</th>\n",
       "      <td>T0003</td>\n",
       "      <td>C075</td>\n",
       "      <td>P029</td>\n",
       "      <td>1</td>\n",
       "      <td>2023-01-01 08:00:00</td>\n",
       "      <td>Store A</td>\n",
       "      <td>Alice Wilson</td>\n",
       "      <td>Los Angeles</td>\n",
       "      <td>2023-08-11</td>\n",
       "    </tr>\n",
       "    <tr>\n",
       "      <th>3</th>\n",
       "      <td>T0004</td>\n",
       "      <td>C053</td>\n",
       "      <td>P045</td>\n",
       "      <td>1</td>\n",
       "      <td>2023-01-01 12:00:00</td>\n",
       "      <td>Store C</td>\n",
       "      <td>Diana Kim</td>\n",
       "      <td>Sacramento</td>\n",
       "      <td>2023-06-06</td>\n",
       "    </tr>\n",
       "    <tr>\n",
       "      <th>4</th>\n",
       "      <td>T0005</td>\n",
       "      <td>C079</td>\n",
       "      <td>P049</td>\n",
       "      <td>3</td>\n",
       "      <td>2023-01-01 16:00:00</td>\n",
       "      <td>Store B</td>\n",
       "      <td>Hannah Patel</td>\n",
       "      <td>Portland</td>\n",
       "      <td>2023-08-23</td>\n",
       "    </tr>\n",
       "    <tr>\n",
       "      <th>5</th>\n",
       "      <td>T0006</td>\n",
       "      <td>C010</td>\n",
       "      <td>P035</td>\n",
       "      <td>1</td>\n",
       "      <td>2023-01-01 20:00:00</td>\n",
       "      <td>Store C</td>\n",
       "      <td>Bob Jackson</td>\n",
       "      <td>Los Angeles</td>\n",
       "      <td>2023-01-28</td>\n",
       "    </tr>\n",
       "    <tr>\n",
       "      <th>6</th>\n",
       "      <td>T0007</td>\n",
       "      <td>C011</td>\n",
       "      <td>P040</td>\n",
       "      <td>3</td>\n",
       "      <td>2023-01-02 00:00:00</td>\n",
       "      <td>Store C</td>\n",
       "      <td>Michael Rodriguez</td>\n",
       "      <td>Seattle</td>\n",
       "      <td>2023-01-31</td>\n",
       "    </tr>\n",
       "    <tr>\n",
       "      <th>7</th>\n",
       "      <td>T0008</td>\n",
       "      <td>C092</td>\n",
       "      <td>P014</td>\n",
       "      <td>1</td>\n",
       "      <td>2023-01-02 04:00:00</td>\n",
       "      <td>Store C</td>\n",
       "      <td>Steve Garcia</td>\n",
       "      <td>Los Angeles</td>\n",
       "      <td>2023-10-01</td>\n",
       "    </tr>\n",
       "    <tr>\n",
       "      <th>8</th>\n",
       "      <td>T0009</td>\n",
       "      <td>C060</td>\n",
       "      <td>P035</td>\n",
       "      <td>1</td>\n",
       "      <td>2023-01-02 08:00:00</td>\n",
       "      <td>Store B</td>\n",
       "      <td>Alice Brown</td>\n",
       "      <td>Portland</td>\n",
       "      <td>2023-06-27</td>\n",
       "    </tr>\n",
       "    <tr>\n",
       "      <th>9</th>\n",
       "      <td>T0010</td>\n",
       "      <td>C030</td>\n",
       "      <td>P048</td>\n",
       "      <td>1</td>\n",
       "      <td>2023-01-02 12:00:00</td>\n",
       "      <td>Store B</td>\n",
       "      <td>Teresa Davis</td>\n",
       "      <td>Seattle</td>\n",
       "      <td>2023-03-29</td>\n",
       "    </tr>\n",
       "  </tbody>\n",
       "</table>\n",
       "</div>"
      ],
      "text/plain": [
       "  purchase_id customer_id product_id  quantity        purchase_date    store  \\\n",
       "0       T0001        C011       P042         1  2023-01-01 00:00:00  Store C   \n",
       "1       T0002        C070       P001         2  2023-01-01 04:00:00  Store A   \n",
       "2       T0003        C075       P029         1  2023-01-01 08:00:00  Store A   \n",
       "3       T0004        C053       P045         1  2023-01-01 12:00:00  Store C   \n",
       "4       T0005        C079       P049         3  2023-01-01 16:00:00  Store B   \n",
       "5       T0006        C010       P035         1  2023-01-01 20:00:00  Store C   \n",
       "6       T0007        C011       P040         3  2023-01-02 00:00:00  Store C   \n",
       "7       T0008        C092       P014         1  2023-01-02 04:00:00  Store C   \n",
       "8       T0009        C060       P035         1  2023-01-02 08:00:00  Store B   \n",
       "9       T0010        C030       P048         1  2023-01-02 12:00:00  Store B   \n",
       "\n",
       "                name         city signup_date  \n",
       "0  Michael Rodriguez      Seattle  2023-01-31  \n",
       "1         Eric Brown   Sacramento  2023-07-27  \n",
       "2       Alice Wilson  Los Angeles  2023-08-11  \n",
       "3          Diana Kim   Sacramento  2023-06-06  \n",
       "4       Hannah Patel     Portland  2023-08-23  \n",
       "5        Bob Jackson  Los Angeles  2023-01-28  \n",
       "6  Michael Rodriguez      Seattle  2023-01-31  \n",
       "7       Steve Garcia  Los Angeles  2023-10-01  \n",
       "8        Alice Brown     Portland  2023-06-27  \n",
       "9       Teresa Davis      Seattle  2023-03-29  "
      ]
     },
     "metadata": {},
     "output_type": "display_data"
    }
   ],
   "source": [
    "# TODO: Merge purchases with customers (left join)\n",
    "# Keep all purchases, add customer information\n",
    "purchase_customer = pd.merge(purchases, customers, on=\"customer_id\", how=\"left\")\n",
    "\n",
    "display(purchase_customer.head(10))"
   ]
  },
  {
   "cell_type": "code",
   "execution_count": 5,
   "id": "86dfcb78",
   "metadata": {},
   "outputs": [
    {
     "data": {
      "application/vnd.microsoft.datawrangler.viewer.v0+json": {
       "columns": [
        {
         "name": "index",
         "rawType": "int64",
         "type": "integer"
        },
        {
         "name": "purchase_id",
         "rawType": "object",
         "type": "string"
        },
        {
         "name": "customer_id",
         "rawType": "object",
         "type": "string"
        },
        {
         "name": "product_id",
         "rawType": "object",
         "type": "string"
        },
        {
         "name": "quantity",
         "rawType": "int64",
         "type": "integer"
        },
        {
         "name": "purchase_date",
         "rawType": "object",
         "type": "string"
        },
        {
         "name": "store",
         "rawType": "object",
         "type": "string"
        },
        {
         "name": "name",
         "rawType": "object",
         "type": "string"
        },
        {
         "name": "city",
         "rawType": "object",
         "type": "string"
        },
        {
         "name": "signup_date",
         "rawType": "object",
         "type": "string"
        },
        {
         "name": "product_name",
         "rawType": "object",
         "type": "string"
        },
        {
         "name": "category",
         "rawType": "object",
         "type": "string"
        },
        {
         "name": "price",
         "rawType": "float64",
         "type": "float"
        }
       ],
       "ref": "591711ad-f43a-488e-8581-c62e7cc08c68",
       "rows": [
        [
         "0",
         "T0001",
         "C011",
         "P042",
         "1",
         "2023-01-01 00:00:00",
         "Store C",
         "Michael Rodriguez",
         "Seattle",
         "2023-01-31",
         "Dumbbells",
         "Sports",
         "402.17"
        ],
        [
         "1",
         "T0002",
         "C070",
         "P001",
         "2",
         "2023-01-01 04:00:00",
         "Store A",
         "Eric Brown",
         "Sacramento",
         "2023-07-27",
         "Laptop",
         "Electronics",
         "1097.56"
        ],
        [
         "2",
         "T0003",
         "C075",
         "P029",
         "1",
         "2023-01-01 08:00:00",
         "Store A",
         "Alice Wilson",
         "Los Angeles",
         "2023-08-11",
         "Candle",
         "Home & Garden",
         "162.72"
        ],
        [
         "3",
         "T0004",
         "C053",
         "P045",
         "1",
         "2023-01-01 12:00:00",
         "Store C",
         "Diana Kim",
         "Sacramento",
         "2023-06-06",
         "Running Shoes",
         "Sports",
         "400.96"
        ],
        [
         "4",
         "T0005",
         "C079",
         "P049",
         "3",
         "2023-01-01 16:00:00",
         "Store B",
         "Hannah Patel",
         "Portland",
         "2023-08-23",
         "Bicycle",
         "Sports",
         "60.58"
        ],
        [
         "5",
         "T0006",
         "C010",
         "P035",
         "1",
         "2023-01-01 20:00:00",
         "Store C",
         "Bob Jackson",
         "Los Angeles",
         "2023-01-28",
         "Magazine",
         "Books",
         "21.74"
        ],
        [
         "6",
         "T0007",
         "C011",
         "P040",
         "3",
         "2023-01-02 00:00:00",
         "Store C",
         "Michael Rodriguez",
         "Seattle",
         "2023-01-31",
         "Reference Book",
         "Books",
         "30.45"
        ],
        [
         "7",
         "T0008",
         "C092",
         "P014",
         "1",
         "2023-01-02 04:00:00",
         "Store C",
         "Steve Garcia",
         "Los Angeles",
         "2023-10-01",
         "Jacket",
         "Clothing",
         "145.27"
        ],
        [
         "8",
         "T0009",
         "C060",
         "P035",
         "1",
         "2023-01-02 08:00:00",
         "Store B",
         "Alice Brown",
         "Portland",
         "2023-06-27",
         "Magazine",
         "Books",
         "21.74"
        ],
        [
         "9",
         "T0010",
         "C030",
         "P048",
         "1",
         "2023-01-02 12:00:00",
         "Store B",
         "Teresa Davis",
         "Seattle",
         "2023-03-29",
         "Jump Rope",
         "Sports",
         "197.16"
        ]
       ],
       "shape": {
        "columns": 12,
        "rows": 10
       }
      },
      "text/html": [
       "<div>\n",
       "<style scoped>\n",
       "    .dataframe tbody tr th:only-of-type {\n",
       "        vertical-align: middle;\n",
       "    }\n",
       "\n",
       "    .dataframe tbody tr th {\n",
       "        vertical-align: top;\n",
       "    }\n",
       "\n",
       "    .dataframe thead th {\n",
       "        text-align: right;\n",
       "    }\n",
       "</style>\n",
       "<table border=\"1\" class=\"dataframe\">\n",
       "  <thead>\n",
       "    <tr style=\"text-align: right;\">\n",
       "      <th></th>\n",
       "      <th>purchase_id</th>\n",
       "      <th>customer_id</th>\n",
       "      <th>product_id</th>\n",
       "      <th>quantity</th>\n",
       "      <th>purchase_date</th>\n",
       "      <th>store</th>\n",
       "      <th>name</th>\n",
       "      <th>city</th>\n",
       "      <th>signup_date</th>\n",
       "      <th>product_name</th>\n",
       "      <th>category</th>\n",
       "      <th>price</th>\n",
       "    </tr>\n",
       "  </thead>\n",
       "  <tbody>\n",
       "    <tr>\n",
       "      <th>0</th>\n",
       "      <td>T0001</td>\n",
       "      <td>C011</td>\n",
       "      <td>P042</td>\n",
       "      <td>1</td>\n",
       "      <td>2023-01-01 00:00:00</td>\n",
       "      <td>Store C</td>\n",
       "      <td>Michael Rodriguez</td>\n",
       "      <td>Seattle</td>\n",
       "      <td>2023-01-31</td>\n",
       "      <td>Dumbbells</td>\n",
       "      <td>Sports</td>\n",
       "      <td>402.17</td>\n",
       "    </tr>\n",
       "    <tr>\n",
       "      <th>1</th>\n",
       "      <td>T0002</td>\n",
       "      <td>C070</td>\n",
       "      <td>P001</td>\n",
       "      <td>2</td>\n",
       "      <td>2023-01-01 04:00:00</td>\n",
       "      <td>Store A</td>\n",
       "      <td>Eric Brown</td>\n",
       "      <td>Sacramento</td>\n",
       "      <td>2023-07-27</td>\n",
       "      <td>Laptop</td>\n",
       "      <td>Electronics</td>\n",
       "      <td>1097.56</td>\n",
       "    </tr>\n",
       "    <tr>\n",
       "      <th>2</th>\n",
       "      <td>T0003</td>\n",
       "      <td>C075</td>\n",
       "      <td>P029</td>\n",
       "      <td>1</td>\n",
       "      <td>2023-01-01 08:00:00</td>\n",
       "      <td>Store A</td>\n",
       "      <td>Alice Wilson</td>\n",
       "      <td>Los Angeles</td>\n",
       "      <td>2023-08-11</td>\n",
       "      <td>Candle</td>\n",
       "      <td>Home &amp; Garden</td>\n",
       "      <td>162.72</td>\n",
       "    </tr>\n",
       "    <tr>\n",
       "      <th>3</th>\n",
       "      <td>T0004</td>\n",
       "      <td>C053</td>\n",
       "      <td>P045</td>\n",
       "      <td>1</td>\n",
       "      <td>2023-01-01 12:00:00</td>\n",
       "      <td>Store C</td>\n",
       "      <td>Diana Kim</td>\n",
       "      <td>Sacramento</td>\n",
       "      <td>2023-06-06</td>\n",
       "      <td>Running Shoes</td>\n",
       "      <td>Sports</td>\n",
       "      <td>400.96</td>\n",
       "    </tr>\n",
       "    <tr>\n",
       "      <th>4</th>\n",
       "      <td>T0005</td>\n",
       "      <td>C079</td>\n",
       "      <td>P049</td>\n",
       "      <td>3</td>\n",
       "      <td>2023-01-01 16:00:00</td>\n",
       "      <td>Store B</td>\n",
       "      <td>Hannah Patel</td>\n",
       "      <td>Portland</td>\n",
       "      <td>2023-08-23</td>\n",
       "      <td>Bicycle</td>\n",
       "      <td>Sports</td>\n",
       "      <td>60.58</td>\n",
       "    </tr>\n",
       "    <tr>\n",
       "      <th>5</th>\n",
       "      <td>T0006</td>\n",
       "      <td>C010</td>\n",
       "      <td>P035</td>\n",
       "      <td>1</td>\n",
       "      <td>2023-01-01 20:00:00</td>\n",
       "      <td>Store C</td>\n",
       "      <td>Bob Jackson</td>\n",
       "      <td>Los Angeles</td>\n",
       "      <td>2023-01-28</td>\n",
       "      <td>Magazine</td>\n",
       "      <td>Books</td>\n",
       "      <td>21.74</td>\n",
       "    </tr>\n",
       "    <tr>\n",
       "      <th>6</th>\n",
       "      <td>T0007</td>\n",
       "      <td>C011</td>\n",
       "      <td>P040</td>\n",
       "      <td>3</td>\n",
       "      <td>2023-01-02 00:00:00</td>\n",
       "      <td>Store C</td>\n",
       "      <td>Michael Rodriguez</td>\n",
       "      <td>Seattle</td>\n",
       "      <td>2023-01-31</td>\n",
       "      <td>Reference Book</td>\n",
       "      <td>Books</td>\n",
       "      <td>30.45</td>\n",
       "    </tr>\n",
       "    <tr>\n",
       "      <th>7</th>\n",
       "      <td>T0008</td>\n",
       "      <td>C092</td>\n",
       "      <td>P014</td>\n",
       "      <td>1</td>\n",
       "      <td>2023-01-02 04:00:00</td>\n",
       "      <td>Store C</td>\n",
       "      <td>Steve Garcia</td>\n",
       "      <td>Los Angeles</td>\n",
       "      <td>2023-10-01</td>\n",
       "      <td>Jacket</td>\n",
       "      <td>Clothing</td>\n",
       "      <td>145.27</td>\n",
       "    </tr>\n",
       "    <tr>\n",
       "      <th>8</th>\n",
       "      <td>T0009</td>\n",
       "      <td>C060</td>\n",
       "      <td>P035</td>\n",
       "      <td>1</td>\n",
       "      <td>2023-01-02 08:00:00</td>\n",
       "      <td>Store B</td>\n",
       "      <td>Alice Brown</td>\n",
       "      <td>Portland</td>\n",
       "      <td>2023-06-27</td>\n",
       "      <td>Magazine</td>\n",
       "      <td>Books</td>\n",
       "      <td>21.74</td>\n",
       "    </tr>\n",
       "    <tr>\n",
       "      <th>9</th>\n",
       "      <td>T0010</td>\n",
       "      <td>C030</td>\n",
       "      <td>P048</td>\n",
       "      <td>1</td>\n",
       "      <td>2023-01-02 12:00:00</td>\n",
       "      <td>Store B</td>\n",
       "      <td>Teresa Davis</td>\n",
       "      <td>Seattle</td>\n",
       "      <td>2023-03-29</td>\n",
       "      <td>Jump Rope</td>\n",
       "      <td>Sports</td>\n",
       "      <td>197.16</td>\n",
       "    </tr>\n",
       "  </tbody>\n",
       "</table>\n",
       "</div>"
      ],
      "text/plain": [
       "  purchase_id customer_id product_id  quantity        purchase_date    store  \\\n",
       "0       T0001        C011       P042         1  2023-01-01 00:00:00  Store C   \n",
       "1       T0002        C070       P001         2  2023-01-01 04:00:00  Store A   \n",
       "2       T0003        C075       P029         1  2023-01-01 08:00:00  Store A   \n",
       "3       T0004        C053       P045         1  2023-01-01 12:00:00  Store C   \n",
       "4       T0005        C079       P049         3  2023-01-01 16:00:00  Store B   \n",
       "5       T0006        C010       P035         1  2023-01-01 20:00:00  Store C   \n",
       "6       T0007        C011       P040         3  2023-01-02 00:00:00  Store C   \n",
       "7       T0008        C092       P014         1  2023-01-02 04:00:00  Store C   \n",
       "8       T0009        C060       P035         1  2023-01-02 08:00:00  Store B   \n",
       "9       T0010        C030       P048         1  2023-01-02 12:00:00  Store B   \n",
       "\n",
       "                name         city signup_date    product_name       category  \\\n",
       "0  Michael Rodriguez      Seattle  2023-01-31       Dumbbells         Sports   \n",
       "1         Eric Brown   Sacramento  2023-07-27          Laptop    Electronics   \n",
       "2       Alice Wilson  Los Angeles  2023-08-11          Candle  Home & Garden   \n",
       "3          Diana Kim   Sacramento  2023-06-06   Running Shoes         Sports   \n",
       "4       Hannah Patel     Portland  2023-08-23         Bicycle         Sports   \n",
       "5        Bob Jackson  Los Angeles  2023-01-28        Magazine          Books   \n",
       "6  Michael Rodriguez      Seattle  2023-01-31  Reference Book          Books   \n",
       "7       Steve Garcia  Los Angeles  2023-10-01          Jacket       Clothing   \n",
       "8        Alice Brown     Portland  2023-06-27        Magazine          Books   \n",
       "9       Teresa Davis      Seattle  2023-03-29       Jump Rope         Sports   \n",
       "\n",
       "     price  \n",
       "0   402.17  \n",
       "1  1097.56  \n",
       "2   162.72  \n",
       "3   400.96  \n",
       "4    60.58  \n",
       "5    21.74  \n",
       "6    30.45  \n",
       "7   145.27  \n",
       "8    21.74  \n",
       "9   197.16  "
      ]
     },
     "metadata": {},
     "output_type": "display_data"
    }
   ],
   "source": [
    "# TODO: Merge the result with products to add product information\n",
    "# Use left join to keep all purchases\n",
    "full_data = pd.merge(purchase_customer, products, on=\"product_id\", how=\"left\")\n",
    "\n",
    "display(full_data.head(10))"
   ]
  },
  {
   "cell_type": "code",
   "execution_count": null,
   "id": "a6556487",
   "metadata": {},
   "outputs": [],
   "source": [
    "# TODO: Calculate total_price for each purchase\n",
    "# Multiply quantity by price to get the total cost\n",
    "# Round to 2 decimal places\n",
    "# Hint: full_data['total_price'] = (full_data['quantity'] * full_data['price']).round(2)\n",
    "\n",
    "display(full_data.head(10))"
   ]
  },
  {
   "cell_type": "markdown",
   "id": "817d55ff",
   "metadata": {},
   "source": [
    "### Part B: Join Type Analysis\n",
    "\n",
    "Compare different join types to understand data relationships."
   ]
  },
  {
   "cell_type": "code",
   "execution_count": null,
   "id": "70870e00",
   "metadata": {},
   "outputs": [],
   "source": [
    "# TODO: Inner join - only customers who made purchases\n",
    "inner_result = None\n",
    "\n",
    "print(f\"Inner join result: {len(inner_result)} rows\")\n",
    "display(inner_result.head())"
   ]
  },
  {
   "cell_type": "code",
   "execution_count": null,
   "id": "3b66906c",
   "metadata": {},
   "outputs": [],
   "source": [
    "# TODO: Left join - all customers (including those with no purchases)\n",
    "left_result = None\n",
    "\n",
    "print(f\"Left join result: {len(left_result)} rows\")\n",
    "display(left_result.head())"
   ]
  },
  {
   "cell_type": "code",
   "execution_count": null,
   "id": "40f98b85",
   "metadata": {},
   "outputs": [],
   "source": [
    "# TODO: Find customers who haven't made any purchases\n",
    "# Hint: Use left join result and check where purchase_id is NaN\n",
    "# Use .isna() to find NaN values: left_result[left_result['purchase_id'].isna()]\n",
    "no_purchases = None\n",
    "\n",
    "print(f\"Customers with no purchases: {len(no_purchases)}\")\n",
    "display(no_purchases.head())"
   ]
  },
  {
   "cell_type": "markdown",
   "id": "c54a03b0",
   "metadata": {},
   "source": [
    "### Part C: Multi-Column Merge\n",
    "\n",
    "Merge on multiple columns when single columns aren't unique enough."
   ]
  },
  {
   "cell_type": "code",
   "execution_count": null,
   "id": "8009793f",
   "metadata": {},
   "outputs": [],
   "source": [
    "# Create store-specific product pricing\n",
    "# (Different stores may have different prices for same product)\n",
    "store_pricing = pd.DataFrame(\n",
    "    {\n",
    "        \"product_id\": [\"P001\", \"P001\", \"P002\", \"P002\", \"P003\", \"P003\"],\n",
    "        \"store\": [\"Store A\", \"Store B\", \"Store A\", \"Store B\", \"Store A\", \"Store B\"],\n",
    "        \"discount_pct\": [5, 10, 8, 5, 0, 15],\n",
    "    }\n",
    ")\n",
    "\n",
    "# TODO: Merge purchases with store_pricing on BOTH product_id AND store\n",
    "# Hint: Use on=['product_id', 'store']\n",
    "purchases_with_discount = None\n",
    "\n",
    "display(purchases_with_discount.head(10))"
   ]
  },
  {
   "cell_type": "markdown",
   "id": "4f7b6448",
   "metadata": {},
   "source": [
    "### Part D: Save Results"
   ]
  },
  {
   "cell_type": "code",
   "execution_count": null,
   "id": "18b527f6",
   "metadata": {},
   "outputs": [],
   "source": [
    "# Create output directory\n",
    "os.makedirs(\"output\", exist_ok=True)\n",
    "\n",
    "# TODO: Save full_data to output/q1_merged_data.csv\n",
    "# Hint: Use .to_csv() with index=False\n",
    "\n",
    "print(\"✓ Saved output/q1_merged_data.csv\")"
   ]
  },
  {
   "cell_type": "code",
   "execution_count": null,
   "id": "5276233a",
   "metadata": {},
   "outputs": [],
   "source": [
    "# Create a validation report\n",
    "validation_report = f\"\"\"\n",
    "Question 1 Validation Report\n",
    "============================\n",
    "\n",
    "Dataset Sizes:\n",
    "  - Customers: {len(customers)} rows\n",
    "  - Products: {len(products)} rows\n",
    "  - Purchases: {len(purchases)} rows\n",
    "\n",
    "Merge Results:\n",
    "  - Full merged data: {len(full_data)} rows\n",
    "  - Inner join: {len(inner_result)} rows\n",
    "  - Left join: {len(left_result)} rows\n",
    "  - Customers with no purchases: {len(no_purchases)}\n",
    "\n",
    "Data Quality:\n",
    "  - Missing customer names: {full_data[\"name\"].isna().sum()}\n",
    "  - Missing product names: {full_data[\"product_name\"].isna().sum()}\n",
    "\"\"\"\n",
    "\n",
    "# TODO: Save validation_report to output/q1_validation.txt\n",
    "# Hint: Use open() with 'w' mode\n",
    "\n",
    "print(\"✓ Saved output/q1_validation.txt\")"
   ]
  },
  {
   "cell_type": "markdown",
   "id": "94986873",
   "metadata": {},
   "source": [
    "---\n",
    "\n",
    "## Question 2: Concatenating DataFrames\n",
    "\n",
    "### Part A: Vertical Concatenation\n",
    "\n",
    "Combine multiple DataFrames by stacking rows."
   ]
  },
  {
   "cell_type": "code",
   "execution_count": null,
   "id": "05f0b147",
   "metadata": {},
   "outputs": [],
   "source": [
    "# Split purchases into quarterly datasets\n",
    "q1_purchases = purchases[purchases[\"purchase_date\"] < \"2023-04-01\"]\n",
    "q2_purchases = purchases[\n",
    "    (purchases[\"purchase_date\"] >= \"2023-04-01\")\n",
    "    & (purchases[\"purchase_date\"] < \"2023-07-01\")\n",
    "]\n",
    "q3_purchases = purchases[\n",
    "    (purchases[\"purchase_date\"] >= \"2023-07-01\")\n",
    "    & (purchases[\"purchase_date\"] < \"2023-10-01\")\n",
    "]\n",
    "q4_purchases = purchases[purchases[\"purchase_date\"] >= \"2023-10-01\"]\n",
    "\n",
    "print(f\"Q1: {len(q1_purchases)} purchases\")\n",
    "print(f\"Q2: {len(q2_purchases)} purchases\")\n",
    "print(f\"Q3: {len(q3_purchases)} purchases\")\n",
    "print(f\"Q4: {len(q4_purchases)} purchases\")"
   ]
  },
  {
   "cell_type": "code",
   "execution_count": null,
   "id": "125fd04d",
   "metadata": {},
   "outputs": [],
   "source": [
    "# TODO: Concatenate all quarters back together\n",
    "# Use ignore_index=True for clean sequential indexing\n",
    "# Hint: pd.concat([df1, df2, df3, df4], ignore_index=True)\n",
    "all_purchases = None\n",
    "\n",
    "print(f\"Total after concat: {len(all_purchases)} purchases\")\n",
    "display(all_purchases.head())\n",
    "print(\n",
    "    f\"\\nVerify total rows: {len(q1_purchases)} + {len(q2_purchases)} + {len(q3_purchases)} + {len(q4_purchases)} = {len(all_purchases)}\"\n",
    ")"
   ]
  },
  {
   "cell_type": "markdown",
   "id": "a39fdc12",
   "metadata": {},
   "source": [
    "### Part B: Horizontal Concatenation\n",
    "\n",
    "Add related information as new columns."
   ]
  },
  {
   "cell_type": "code",
   "execution_count": null,
   "id": "046d2b02",
   "metadata": {},
   "outputs": [],
   "source": [
    "# Create customer satisfaction scores (subset of customers)\n",
    "satisfaction = pd.DataFrame(\n",
    "    {\n",
    "        \"customer_id\": customers[\"customer_id\"].sample(50, random_state=42),\n",
    "        \"satisfaction_score\": np.random.randint(1, 11, size=50),\n",
    "        \"survey_date\": pd.date_range(\"2023-12-01\", periods=50, freq=\"D\"),\n",
    "    }\n",
    ")\n",
    "\n",
    "# Create customer loyalty tier (different subset)\n",
    "loyalty = pd.DataFrame(\n",
    "    {\n",
    "        \"customer_id\": customers[\"customer_id\"].sample(60, random_state=123),\n",
    "        \"tier\": np.random.choice([\"Bronze\", \"Silver\", \"Gold\", \"Platinum\"], size=60),\n",
    "        \"points\": np.random.randint(100, 10000, size=60),\n",
    "    }\n",
    ")\n",
    "\n",
    "# Set customer_id as index for both\n",
    "satisfaction = satisfaction.set_index(\"customer_id\")\n",
    "loyalty = loyalty.set_index(\"customer_id\")\n",
    "\n",
    "print(\"Satisfaction scores:\")\n",
    "display(satisfaction.head())\n",
    "print(\"\\nLoyalty tiers:\")\n",
    "display(loyalty.head())"
   ]
  },
  {
   "cell_type": "code",
   "execution_count": null,
   "id": "a6a3995b",
   "metadata": {},
   "outputs": [],
   "source": [
    "# TODO: Horizontal concat to combine satisfaction and loyalty\n",
    "# Use outer join to keep all customers from both datasets\n",
    "# Hint: pd.concat([df1, df2], axis=1, join='outer')\n",
    "customer_metrics = None\n",
    "\n",
    "display(customer_metrics.head(10))"
   ]
  },
  {
   "cell_type": "code",
   "execution_count": null,
   "id": "f7470e72",
   "metadata": {},
   "outputs": [],
   "source": [
    "# Handle misaligned indexes - how many NaN values?\n",
    "print(\n",
    "    f\"Missing satisfaction scores: {customer_metrics['satisfaction_score'].isna().sum()}\"\n",
    ")\n",
    "print(f\"Missing loyalty tiers: {customer_metrics['tier'].isna().sum()}\")"
   ]
  },
  {
   "cell_type": "code",
   "execution_count": null,
   "id": "f644d81f",
   "metadata": {},
   "outputs": [],
   "source": [
    "# TODO: Save customer_metrics to output/q2_combined_data.csv\n",
    "# Hint: Use .to_csv() - index will be saved automatically\n",
    "\n",
    "print(\"✓ Saved output/q2_combined_data.csv\")"
   ]
  },
  {
   "cell_type": "markdown",
   "id": "b4c41a0d",
   "metadata": {},
   "source": [
    "---\n",
    "\n",
    "## Question 3: Reshaping and Analysis\n",
    "\n",
    "### Part A: Pivot Table Analysis\n",
    "\n",
    "Transform data to analyze patterns."
   ]
  },
  {
   "cell_type": "code",
   "execution_count": null,
   "id": "6575d15b",
   "metadata": {},
   "outputs": [],
   "source": [
    "# TODO: Load the merged data from Question 1\n",
    "# This already has purchases merged with customers and products (and total_price calculated)\n",
    "# Hint: pd.read_csv('output/q1_merged_data.csv')\n",
    "full_data = None\n",
    "\n",
    "# Add month column for grouping (YYYY-MM format like \"2023-01\")\n",
    "full_data[\"month\"] = pd.to_datetime(full_data[\"purchase_date\"]).dt.strftime(\"%Y-%m\")\n",
    "\n",
    "display(full_data.head())"
   ]
  },
  {
   "cell_type": "code",
   "execution_count": null,
   "id": "d660f34f",
   "metadata": {},
   "outputs": [],
   "source": [
    "# TODO: Create pivot table - sales by category and month\n",
    "# Use pivot_table to handle duplicate entries (aggregate with sum)\n",
    "# Hint: pd.pivot_table(df, values='total_price', index='month', columns='category', aggfunc='sum')\n",
    "sales_pivot = None\n",
    "\n",
    "display(sales_pivot)"
   ]
  },
  {
   "cell_type": "code",
   "execution_count": null,
   "id": "1af023c6",
   "metadata": {},
   "outputs": [],
   "source": [
    "# TODO: Save sales_pivot to output/q3_category_sales_wide.csv\n",
    "# Hint: Use .to_csv()\n",
    "\n",
    "print(\"✓ Saved output/q3_category_sales_wide.csv\")"
   ]
  },
  {
   "cell_type": "markdown",
   "id": "5d664dac",
   "metadata": {},
   "source": [
    "### Part B: Melt and Long Format\n",
    "\n",
    "Convert wide format back to long for different analysis."
   ]
  },
  {
   "cell_type": "code",
   "execution_count": null,
   "id": "867a4a9f",
   "metadata": {},
   "outputs": [],
   "source": [
    "# Reset index to make month a column\n",
    "sales_wide = sales_pivot.reset_index()\n",
    "\n",
    "# TODO: Melt to convert category columns back to rows\n",
    "# Hint: pd.melt(df, id_vars=['month'], var_name='category', value_name='sales')\n",
    "sales_long = None\n",
    "\n",
    "display(sales_long.head(15))"
   ]
  },
  {
   "cell_type": "code",
   "execution_count": null,
   "id": "a9fb8857",
   "metadata": {},
   "outputs": [],
   "source": [
    "# TODO: Calculate summary statistics using the long format\n",
    "# Group by category and calculate total sales, average monthly sales\n",
    "# Hint: Use .groupby('category')['sales'].agg(['sum', 'mean']) and sort by sum descending\n",
    "category_summary = None\n",
    "\n",
    "display(category_summary)"
   ]
  },
  {
   "cell_type": "code",
   "execution_count": null,
   "id": "67820e30",
   "metadata": {},
   "outputs": [],
   "source": [
    "# Create final analysis report\n",
    "analysis_report = f\"\"\"\n",
    "Question 3 Analysis Report\n",
    "==========================\n",
    "\n",
    "Sales by Category (Total):\n",
    "{category_summary.to_string()}\n",
    "\n",
    "Time Period:\n",
    "  - Start: {full_data[\"purchase_date\"].min()}\n",
    "  - End: {full_data[\"purchase_date\"].max()}\n",
    "  - Months: {full_data[\"month\"].nunique()}\n",
    "\n",
    "Top Category: {category_summary.index[0]}\n",
    "Bottom Category: {category_summary.index[-1]}\n",
    "\"\"\"\n",
    "\n",
    "# TODO: Save analysis_report to output/q3_analysis_report.txt\n",
    "# Hint: Use open() with 'w' mode\n",
    "\n",
    "print(\"✓ Saved output/q3_analysis_report.txt\")"
   ]
  }
 ],
 "metadata": {
  "kernelspec": {
   "display_name": "Python 3",
   "language": "python",
   "name": "python3"
  },
  "language_info": {
   "codemirror_mode": {
    "name": "ipython",
    "version": 3
   },
   "file_extension": ".py",
   "mimetype": "text/x-python",
   "name": "python",
   "nbconvert_exporter": "python",
   "pygments_lexer": "ipython3",
   "version": "3.13.5"
  }
 },
 "nbformat": 4,
 "nbformat_minor": 5
}
